{
  "nbformat": 4,
  "nbformat_minor": 0,
  "metadata": {
    "colab": {
      "name": "Marburg virus",
      "provenance": [],
      "collapsed_sections": []
    },
    "kernelspec": {
      "name": "python3",
      "display_name": "Python 3"
    },
    "language_info": {
      "name": "python"
    }
  },
  "cells": [
    {
      "cell_type": "code",
      "execution_count": null,
      "metadata": {
        "id": "3YLXqCC2ddTo"
      },
      "outputs": [],
      "source": [
        "import requests\n",
        "import nltk\n",
        "from bs4 import BeautifulSoup\n",
        "from collections import Counter"
      ]
    },
    {
      "cell_type": "code",
      "source": [
        "r = requests.get(\"https://www.who.int/news-room/fact-sheets/detail/marburg-virus-disease\")\n",
        "r.encoding = 'utf-8'\n",
        "html = r.text\n",
        "print(html[:2000])"
      ],
      "metadata": {
        "colab": {
          "base_uri": "https://localhost:8080/"
        },
        "id": "cg1lpbgqdyWh",
        "outputId": "ce059a56-b5c1-44e8-9ba2-7542b9630eaf"
      },
      "execution_count": null,
      "outputs": [
        {
          "output_type": "stream",
          "name": "stdout",
          "text": [
            " <!DOCTYPE html> <html lang=\"en\"> <head>  <meta http-equiv=\"X-UA-Compatible\" content=\"IE=edge,chrome=1\" /> <meta charset=\"utf-8\" /><meta name=\"viewport\" content=\"width=device-width, initial-scale=1\"><title>\r\n",
            "\tMarburg virus disease\r\n",
            "</title> <link rel=\"shortcut icon\" href=\"/favicon.ico\"> <link rel=\"manifest\" href=\"/manifest.json\"> <link rel=\"apple-touch-icon\" href=\"/apple-touch-icon-precomposed.png\"> <meta name=\"theme-color\" content=\"#007eb4\" /><link href=\"//use.fontawesome.com/releases/v5.0.10/css/all.css\" rel=\"stylesheet\" type=\"text/css\" /> <link rel='stylesheet' href='/ResourcePackages/WHO/assets/dist/styles/grid.min.css?v=14.0.7729.14971'>  <link rel='stylesheet' href='/ResourcePackages/WHO/assets/dist/styles/origin.min.css?v=14.0.7729.14971'><link rel='stylesheet' href='/ResourcePackages/WHO/assets/dist/styles/main.min.css?v=14.0.7729.14971'> <link rel='stylesheet' href='/ResourcePackages/WHO/assets/dist/styles/print.min.css?v=14.0.7729.14971' media='print'>\n",
            "<script>\r\n",
            "                var lang = document.documentElement.lang; \r\n",
            "                window.dataLayer = window.dataLayer || []; \r\n",
            "                window.dataLayer.push({'language': lang });\r\n",
            "                window.dataLayer.push({\r\n",
            "  \"pagetype\": \"factsheet\",\r\n",
            "  \"targetaudience\": \"general-audience\",\r\n",
            "  \"targetcountry\": \"global\",\r\n",
            "  \"publishingoffice\": \"who-headquarters-(hq)\",\r\n",
            "  \"healthtopic\": \"Marburghaemorrhagicfever\"\r\n",
            "});</script> <script>\r\n",
            "                    (function() {\r\n",
            "                    function deleteCookie(cookieName,domain) {\r\n",
            "                        document.cookie = cookieName + '=;expires=Mon Jan 01 1900 00:00:00 ; path=/; domain=' + domain;\r\n",
            "                    }\r\n",
            "                    function loadAndTrack(canTrack) {\r\n",
            "                        if (!canTrack) {\r\n",
            "                            var domain = location.hostname.replace(/^www\\./i, '.');\r\n",
            "                            //GA\r\n",
            "                            deleteCookie('_ga', domain);\r\n",
            "                            deleteCookie('_gat', domain);\r\n"
          ]
        }
      ]
    },
    {
      "cell_type": "code",
      "source": [
        "soup = BeautifulSoup(html)\n",
        "text = soup.text\n",
        "print(text[0:2000])"
      ],
      "metadata": {
        "colab": {
          "base_uri": "https://localhost:8080/"
        },
        "id": "DSxHf0pIeUZi",
        "outputId": "b6eec9ba-8e9f-40c3-bf71-eccf2feb94cc"
      },
      "execution_count": null,
      "outputs": [
        {
          "output_type": "stream",
          "name": "stdout",
          "text": [
            "   \r\n",
            "\tMarburg virus disease\r\n",
            "       \n",
            "\r\n",
            "                var lang = document.documentElement.lang; \r\n",
            "                window.dataLayer = window.dataLayer || []; \r\n",
            "                window.dataLayer.push({'language': lang });\r\n",
            "                window.dataLayer.push({\r\n",
            "  \"pagetype\": \"factsheet\",\r\n",
            "  \"targetaudience\": \"general-audience\",\r\n",
            "  \"targetcountry\": \"global\",\r\n",
            "  \"publishingoffice\": \"who-headquarters-(hq)\",\r\n",
            "  \"healthtopic\": \"Marburghaemorrhagicfever\"\r\n",
            "}); \r\n",
            "                    (function() {\r\n",
            "                    function deleteCookie(cookieName,domain) {\r\n",
            "                        document.cookie = cookieName + '=;expires=Mon Jan 01 1900 00:00:00 ; path=/; domain=' + domain;\r\n",
            "                    }\r\n",
            "                    function loadAndTrack(canTrack) {\r\n",
            "                        if (!canTrack) {\r\n",
            "                            var domain = location.hostname.replace(/^www\\./i, '.');\r\n",
            "                            //GA\r\n",
            "                            deleteCookie('_ga', domain);\r\n",
            "                            deleteCookie('_gat', domain);\r\n",
            "                            deleteCookie('_gid', domain);\r\n",
            "                            //Clarity\r\n",
            "                            deleteCookie('_clck', domain);\r\n",
            "                            deleteCookie('_clsk', domain);\r\n",
            "                            //Google Adsense\r\n",
            "                            deleteCookie('_gcl_au', domain);\r\n",
            "                        }\r\n",
            "                        else{\r\n",
            "                            //Fire GTM\r\n",
            "                            //Google Tag Manager\r\n",
            "                                (function(w,d,s,l,i){w[l]=w[l]||[];w[l].push({'gtm.start':\r\n",
            "                                new Date().getTime(),event:'gtm.js'});var f=d.getElementsByTagName(s)[0],\r\n",
            "                                j=d.createElement(s),dl=l!='dataLayer'?'&l='+l:'';j.async=true;j.src=\r\n",
            "                                'https://www.googletagmanager.com/gtm.js?id='+i+dl;f.parentNode.insertBefore(j,f);\r\n",
            "                                })(window,document,'script','dataLayer',\n"
          ]
        }
      ]
    },
    {
      "cell_type": "code",
      "source": [
        "# Create tokenizer\n",
        "tokenizer = nltk.tokenize.RegexpTokenizer(\"\\w+\")\n",
        "\n",
        "# Tokenize text\n",
        "tokens = tokenizer.tokenize(text)\n",
        "print(tokens[:100])"
      ],
      "metadata": {
        "colab": {
          "base_uri": "https://localhost:8080/"
        },
        "id": "nRadDwTchnBg",
        "outputId": "24884f88-bda7-4d6b-f237-661d28a2541f"
      },
      "execution_count": null,
      "outputs": [
        {
          "output_type": "stream",
          "name": "stdout",
          "text": [
            "['Marburg', 'virus', 'disease', 'var', 'lang', 'document', 'documentElement', 'lang', 'window', 'dataLayer', 'window', 'dataLayer', 'window', 'dataLayer', 'push', 'language', 'lang', 'window', 'dataLayer', 'push', 'pagetype', 'factsheet', 'targetaudience', 'general', 'audience', 'targetcountry', 'global', 'publishingoffice', 'who', 'headquarters', 'hq', 'healthtopic', 'Marburghaemorrhagicfever', 'function', 'function', 'deleteCookie', 'cookieName', 'domain', 'document', 'cookie', 'cookieName', 'expires', 'Mon', 'Jan', '01', '1900', '00', '00', '00', 'path', 'domain', 'domain', 'function', 'loadAndTrack', 'canTrack', 'if', 'canTrack', 'var', 'domain', 'location', 'hostname', 'replace', 'www', 'i', 'GA', 'deleteCookie', '_ga', 'domain', 'deleteCookie', '_gat', 'domain', 'deleteCookie', '_gid', 'domain', 'Clarity', 'deleteCookie', '_clck', 'domain', 'deleteCookie', '_clsk', 'domain', 'Google', 'Adsense', 'deleteCookie', '_gcl_au', 'domain', 'else', 'Fire', 'GTM', 'Google', 'Tag', 'Manager', 'function', 'w', 'd', 's', 'l', 'i', 'w', 'l']\n"
          ]
        }
      ]
    },
    {
      "cell_type": "markdown",
      "source": [
        "# New Section"
      ],
      "metadata": {
        "id": "mAGjkwinEMbR"
      }
    }
  ]
}