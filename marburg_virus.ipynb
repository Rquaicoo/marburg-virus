{
  "nbformat": 4,
  "nbformat_minor": 0,
  "metadata": {
    "colab": {
      "name": "marburg-virus.ipynb",
      "provenance": [],
      "collapsed_sections": []
    },
    "kernelspec": {
      "name": "python3",
      "display_name": "Python 3"
    },
    "language_info": {
      "name": "python"
    },
    "gpuClass": "standard"
  },
  "cells": [
    {
      "cell_type": "code",
      "execution_count": 56,
      "metadata": {
        "colab": {
          "base_uri": "https://localhost:8080/"
        },
        "id": "4eAuuG47vVLD",
        "outputId": "6331fecd-8311-4efd-bb3a-c31ec2ad4936"
      },
      "outputs": [
        {
          "output_type": "stream",
          "name": "stdout",
          "text": [
            "Looking in indexes: https://pypi.org/simple, https://us-python.pkg.dev/colab-wheels/public/simple/\n",
            "Requirement already satisfied: requests in /usr/local/lib/python3.7/dist-packages (2.23.0)\n",
            "Requirement already satisfied: urllib3!=1.25.0,!=1.25.1,<1.26,>=1.21.1 in /usr/local/lib/python3.7/dist-packages (from requests) (1.24.3)\n",
            "Requirement already satisfied: idna<3,>=2.5 in /usr/local/lib/python3.7/dist-packages (from requests) (2.10)\n",
            "Requirement already satisfied: certifi>=2017.4.17 in /usr/local/lib/python3.7/dist-packages (from requests) (2022.6.15)\n",
            "Requirement already satisfied: chardet<4,>=3.0.2 in /usr/local/lib/python3.7/dist-packages (from requests) (3.0.4)\n"
          ]
        }
      ],
      "source": [
        "pip install requests"
      ]
    },
    {
      "cell_type": "code",
      "source": [
        ""
      ],
      "metadata": {
        "id": "KzOvXOaQHcEr"
      },
      "execution_count": null,
      "outputs": []
    },
    {
      "cell_type": "code",
      "source": [
        "pip install wget"
      ],
      "metadata": {
        "colab": {
          "base_uri": "https://localhost:8080/"
        },
        "id": "l6icoBuFvk-1",
        "outputId": "3c231e6e-129f-4972-a467-0cc74da2d6f5"
      },
      "execution_count": null,
      "outputs": [
        {
          "output_type": "stream",
          "name": "stdout",
          "text": [
            "Looking in indexes: https://pypi.org/simple, https://us-python.pkg.dev/colab-wheels/public/simple/\n",
            "Collecting wget\n",
            "  Downloading wget-3.2.zip (10 kB)\n",
            "Building wheels for collected packages: wget\n",
            "  Building wheel for wget (setup.py) ... \u001b[?25l\u001b[?25hdone\n",
            "  Created wheel for wget: filename=wget-3.2-py3-none-any.whl size=9675 sha256=feafb6f1972e0879870fad8888bb9db166af682af542b376442322f1412e2b1b\n",
            "  Stored in directory: /root/.cache/pip/wheels/a1/b6/7c/0e63e34eb06634181c63adacca38b79ff8f35c37e3c13e3c02\n",
            "Successfully built wget\n",
            "Installing collected packages: wget\n",
            "Successfully installed wget-3.2\n"
          ]
        }
      ]
    },
    {
      "cell_type": "code",
      "source": [
        "pip install beautifulsoup4"
      ],
      "metadata": {
        "colab": {
          "base_uri": "https://localhost:8080/"
        },
        "id": "XTDOvWBSvuii",
        "outputId": "9345533a-5761-423b-8123-3789962f9204"
      },
      "execution_count": null,
      "outputs": [
        {
          "output_type": "stream",
          "name": "stdout",
          "text": [
            "Looking in indexes: https://pypi.org/simple, https://us-python.pkg.dev/colab-wheels/public/simple/\n",
            "Requirement already satisfied: beautifulsoup4 in /usr/local/lib/python3.7/dist-packages (4.6.3)\n"
          ]
        }
      ]
    },
    {
      "cell_type": "code",
      "source": [
        "pip install pdfminer3k"
      ],
      "metadata": {
        "colab": {
          "base_uri": "https://localhost:8080/"
        },
        "id": "H4iE64aLvyx9",
        "outputId": "4914ca5a-dad2-4e7f-f83b-d57e7f5e2fc3"
      },
      "execution_count": null,
      "outputs": [
        {
          "output_type": "stream",
          "name": "stdout",
          "text": [
            "Looking in indexes: https://pypi.org/simple, https://us-python.pkg.dev/colab-wheels/public/simple/\n",
            "Collecting pdfminer3k\n",
            "  Downloading pdfminer3k-1.3.4-py3-none-any.whl (100 kB)\n",
            "\u001b[K     |████████████████████████████████| 100 kB 9.4 MB/s \n",
            "\u001b[?25hCollecting ply\n",
            "  Downloading ply-3.11-py2.py3-none-any.whl (49 kB)\n",
            "\u001b[K     |████████████████████████████████| 49 kB 6.7 MB/s \n",
            "\u001b[?25hInstalling collected packages: ply, pdfminer3k\n",
            "Successfully installed pdfminer3k-1.3.4 ply-3.11\n"
          ]
        }
      ]
    },
    {
      "cell_type": "code",
      "source": [
        "import requests\n",
        "import nltk\n",
        "from bs4 import BeautifulSoup\n",
        "from collections import Counter\n",
        "from nltk.tokenize import word_tokenize\n",
        "from nltk.tokenize import sent_tokenize\n",
        "from nltk.corpus import stopwords\n",
        "from nltk.stem import WordNetLemmatizer "
      ],
      "metadata": {
        "id": "8nsCd65tv3W0"
      },
      "execution_count": 38,
      "outputs": []
    },
    {
      "cell_type": "code",
      "source": [
        "r = requests.get(\"https://www.who.int/news-room/fact-sheets/detail/marburg-virus-disease\")\n",
        "r.encoding = 'utf-8'\n",
        "html = r.text\n",
        "print(html[:2000])"
      ],
      "metadata": {
        "colab": {
          "base_uri": "https://localhost:8080/"
        },
        "id": "zgzMQmxBv9Ir",
        "outputId": "bcdafaae-f0cf-41f9-a955-df79a0dd2be3"
      },
      "execution_count": null,
      "outputs": [
        {
          "output_type": "stream",
          "name": "stdout",
          "text": [
            " <!DOCTYPE html> <html lang=\"en\"> <head>  <meta http-equiv=\"X-UA-Compatible\" content=\"IE=edge,chrome=1\" /> <meta charset=\"utf-8\" /><meta name=\"viewport\" content=\"width=device-width, initial-scale=1\"><title>\r\n",
            "\tMarburg virus disease\r\n",
            "</title> <link rel=\"shortcut icon\" href=\"/favicon.ico\"> <link rel=\"manifest\" href=\"/manifest.json\"> <link rel=\"apple-touch-icon\" href=\"/apple-touch-icon-precomposed.png\"> <meta name=\"theme-color\" content=\"#007eb4\" /><link href=\"//use.fontawesome.com/releases/v5.0.10/css/all.css\" rel=\"stylesheet\" type=\"text/css\" /> <link rel='stylesheet' href='/ResourcePackages/WHO/assets/dist/styles/grid.min.css?v=14.0.7729.14971'>  <link rel='stylesheet' href='/ResourcePackages/WHO/assets/dist/styles/origin.min.css?v=14.0.7729.14971'><link rel='stylesheet' href='/ResourcePackages/WHO/assets/dist/styles/main.min.css?v=14.0.7729.14971'> <link rel='stylesheet' href='/ResourcePackages/WHO/assets/dist/styles/print.min.css?v=14.0.7729.14971' media='print'>\n",
            "<script>\r\n",
            "                var lang = document.documentElement.lang; \r\n",
            "                window.dataLayer = window.dataLayer || []; \r\n",
            "                window.dataLayer.push({'language': lang });\r\n",
            "                window.dataLayer.push({\r\n",
            "  \"pagetype\": \"factsheet\",\r\n",
            "  \"targetaudience\": \"general-audience\",\r\n",
            "  \"targetcountry\": \"global\",\r\n",
            "  \"publishingoffice\": \"who-headquarters-(hq)\",\r\n",
            "  \"healthtopic\": \"Marburghaemorrhagicfever\"\r\n",
            "});</script> <script>\r\n",
            "                    (function() {\r\n",
            "                    function deleteCookie(cookieName,domain) {\r\n",
            "                        document.cookie = cookieName + '=;expires=Mon Jan 01 1900 00:00:00 ; path=/; domain=' + domain;\r\n",
            "                    }\r\n",
            "                    function loadAndTrack(canTrack) {\r\n",
            "                        if (!canTrack) {\r\n",
            "                            var domain = location.hostname.replace(/^www\\./i, '.');\r\n",
            "                            //GA\r\n",
            "                            deleteCookie('_ga', domain);\r\n",
            "                            deleteCookie('_gat', domain);\r\n"
          ]
        }
      ]
    },
    {
      "cell_type": "code",
      "source": [
        "soup = BeautifulSoup(html)\n",
        "text = soup.text\n",
        "print(text[0:2000])"
      ],
      "metadata": {
        "colab": {
          "base_uri": "https://localhost:8080/"
        },
        "id": "-1x0a4m5wCno",
        "outputId": "4f5ff874-e563-4f99-c9ea-a6b18fbdca9e"
      },
      "execution_count": 32,
      "outputs": [
        {
          "output_type": "stream",
          "name": "stdout",
          "text": [
            "   \r\n",
            "\tMarburg virus disease\r\n",
            "       \n",
            "\r\n",
            "                var lang = document.documentElement.lang; \r\n",
            "                window.dataLayer = window.dataLayer || []; \r\n",
            "                window.dataLayer.push({'language': lang });\r\n",
            "                window.dataLayer.push({\r\n",
            "  \"pagetype\": \"factsheet\",\r\n",
            "  \"targetaudience\": \"general-audience\",\r\n",
            "  \"targetcountry\": \"global\",\r\n",
            "  \"publishingoffice\": \"who-headquarters-(hq)\",\r\n",
            "  \"healthtopic\": \"Marburghaemorrhagicfever\"\r\n",
            "}); \r\n",
            "                    (function() {\r\n",
            "                    function deleteCookie(cookieName,domain) {\r\n",
            "                        document.cookie = cookieName + '=;expires=Mon Jan 01 1900 00:00:00 ; path=/; domain=' + domain;\r\n",
            "                    }\r\n",
            "                    function loadAndTrack(canTrack) {\r\n",
            "                        if (!canTrack) {\r\n",
            "                            var domain = location.hostname.replace(/^www\\./i, '.');\r\n",
            "                            //GA\r\n",
            "                            deleteCookie('_ga', domain);\r\n",
            "                            deleteCookie('_gat', domain);\r\n",
            "                            deleteCookie('_gid', domain);\r\n",
            "                            //Clarity\r\n",
            "                            deleteCookie('_clck', domain);\r\n",
            "                            deleteCookie('_clsk', domain);\r\n",
            "                            //Google Adsense\r\n",
            "                            deleteCookie('_gcl_au', domain);\r\n",
            "                        }\r\n",
            "                        else{\r\n",
            "                            //Fire GTM\r\n",
            "                            //Google Tag Manager\r\n",
            "                                (function(w,d,s,l,i){w[l]=w[l]||[];w[l].push({'gtm.start':\r\n",
            "                                new Date().getTime(),event:'gtm.js'});var f=d.getElementsByTagName(s)[0],\r\n",
            "                                j=d.createElement(s),dl=l!='dataLayer'?'&l='+l:'';j.async=true;j.src=\r\n",
            "                                'https://www.googletagmanager.com/gtm.js?id='+i+dl;f.parentNode.insertBefore(j,f);\r\n",
            "                                })(window,document,'script','dataLayer',\n"
          ]
        }
      ]
    },
    {
      "cell_type": "code",
      "source": [
        "tokenizer = nltk.tokenize.RegexpTokenizer(\"\\w+\")\n",
        "\n",
        "# Tokenize word\n",
        "word_tokenize = tokenizer.tokenize(text)\n",
        "print(word_tokenize[:100])"
      ],
      "metadata": {
        "colab": {
          "base_uri": "https://localhost:8080/"
        },
        "id": "5eozb6Z1wMfG",
        "outputId": "e0ab0e53-b533-4bd1-b4d7-6dbd895a732f"
      },
      "execution_count": 55,
      "outputs": [
        {
          "output_type": "stream",
          "name": "stdout",
          "text": [
            "['Marburg', 'virus', 'disease', 'var', 'lang', 'document', 'documentElement', 'lang', 'window', 'dataLayer', 'window', 'dataLayer', 'window', 'dataLayer', 'push', 'language', 'lang', 'window', 'dataLayer', 'push', 'pagetype', 'factsheet', 'targetaudience', 'general', 'audience', 'targetcountry', 'global', 'publishingoffice', 'who', 'headquarters', 'hq', 'healthtopic', 'Marburghaemorrhagicfever', 'function', 'function', 'deleteCookie', 'cookieName', 'domain', 'document', 'cookie', 'cookieName', 'expires', 'Mon', 'Jan', '01', '1900', '00', '00', '00', 'path', 'domain', 'domain', 'function', 'loadAndTrack', 'canTrack', 'if', 'canTrack', 'var', 'domain', 'location', 'hostname', 'replace', 'www', 'i', 'GA', 'deleteCookie', '_ga', 'domain', 'deleteCookie', '_gat', 'domain', 'deleteCookie', '_gid', 'domain', 'Clarity', 'deleteCookie', '_clck', 'domain', 'deleteCookie', '_clsk', 'domain', 'Google', 'Adsense', 'deleteCookie', '_gcl_au', 'domain', 'else', 'Fire', 'GTM', 'Google', 'Tag', 'Manager', 'function', 'w', 'd', 's', 'l', 'i', 'w', 'l']\n"
          ]
        }
      ]
    },
    {
      "cell_type": "code",
      "source": [
        "words = [token.lower() for token in tokens]\n",
        "print(words[:100])"
      ],
      "metadata": {
        "colab": {
          "base_uri": "https://localhost:8080/"
        },
        "id": "Uy364ndxwOTi",
        "outputId": "a299b538-d119-48eb-8d08-eeb6b753deb6"
      },
      "execution_count": 37,
      "outputs": [
        {
          "output_type": "stream",
          "name": "stdout",
          "text": [
            "['marburg', 'virus', 'disease', 'var', 'lang', 'document', 'documentelement', 'lang', 'window', 'datalayer', 'window', 'datalayer', 'window', 'datalayer', 'push', 'language', 'lang', 'window', 'datalayer', 'push', 'pagetype', 'factsheet', 'targetaudience', 'general', 'audience', 'targetcountry', 'global', 'publishingoffice', 'who', 'headquarters', 'hq', 'healthtopic', 'marburghaemorrhagicfever', 'function', 'function', 'deletecookie', 'cookiename', 'domain', 'document', 'cookie', 'cookiename', 'expires', 'mon', 'jan', '01', '1900', '00', '00', '00', 'path', 'domain', 'domain', 'function', 'loadandtrack', 'cantrack', 'if', 'cantrack', 'var', 'domain', 'location', 'hostname', 'replace', 'www', 'i', 'ga', 'deletecookie', '_ga', 'domain', 'deletecookie', '_gat', 'domain', 'deletecookie', '_gid', 'domain', 'clarity', 'deletecookie', '_clck', 'domain', 'deletecookie', '_clsk', 'domain', 'google', 'adsense', 'deletecookie', '_gcl_au', 'domain', 'else', 'fire', 'gtm', 'google', 'tag', 'manager', 'function', 'w', 'd', 's', 'l', 'i', 'w', 'l']\n"
          ]
        }
      ]
    },
    {
      "cell_type": "code",
      "source": [
        "tokenizer = nltk.tokenize.RegexpTokenizer(\"\\w+\")\n",
        "\n",
        "# Tokenize sentence\n",
        "sent_tokenize = tokenizer.tokenize(text)\n",
        "print(sent_tokenize[:1000])"
      ],
      "metadata": {
        "colab": {
          "base_uri": "https://localhost:8080/"
        },
        "id": "tHKPbqjDy9MP",
        "outputId": "0e357fb2-5a33-499c-fa22-4859603606b4"
      },
      "execution_count": 70,
      "outputs": [
        {
          "output_type": "stream",
          "name": "stdout",
          "text": [
            "['Marburg', 'virus', 'disease', 'var', 'lang', 'document', 'documentElement', 'lang', 'window', 'dataLayer', 'window', 'dataLayer', 'window', 'dataLayer', 'push', 'language', 'lang', 'window', 'dataLayer', 'push', 'pagetype', 'factsheet', 'targetaudience', 'general', 'audience', 'targetcountry', 'global', 'publishingoffice', 'who', 'headquarters', 'hq', 'healthtopic', 'Marburghaemorrhagicfever', 'function', 'function', 'deleteCookie', 'cookieName', 'domain', 'document', 'cookie', 'cookieName', 'expires', 'Mon', 'Jan', '01', '1900', '00', '00', '00', 'path', 'domain', 'domain', 'function', 'loadAndTrack', 'canTrack', 'if', 'canTrack', 'var', 'domain', 'location', 'hostname', 'replace', 'www', 'i', 'GA', 'deleteCookie', '_ga', 'domain', 'deleteCookie', '_gat', 'domain', 'deleteCookie', '_gid', 'domain', 'Clarity', 'deleteCookie', '_clck', 'domain', 'deleteCookie', '_clsk', 'domain', 'Google', 'Adsense', 'deleteCookie', '_gcl_au', 'domain', 'else', 'Fire', 'GTM', 'Google', 'Tag', 'Manager', 'function', 'w', 'd', 's', 'l', 'i', 'w', 'l', 'w', 'l', 'w', 'l', 'push', 'gtm', 'start', 'new', 'Date', 'getTime', 'event', 'gtm', 'js', 'var', 'f', 'd', 'getElementsByTagName', 's', '0', 'j', 'd', 'createElement', 's', 'dl', 'l', 'dataLayer', 'l', 'l', 'j', 'async', 'true', 'j', 'src', 'https', 'www', 'googletagmanager', 'com', 'gtm', 'js', 'id', 'i', 'dl', 'f', 'parentNode', 'insertBefore', 'j', 'f', 'window', 'document', 'script', 'dataLayer', 'GTM', '5QFSQRT', 'End', 'Google', 'Tag', 'Manager', 'return', 'if', 'window', 'TrackingConsentManager', 'TrackingConsentManager', 'addEventListener', 'ConsentChanged', 'loadAndTrack', 'loadAndTrack', 'TrackingConsentManager', 'canTrackCurrentUser', 'else', 'loadAndTrack', 'true', 'embed', 'responsive', 'position', 'relative', 'display', 'block', 'height', '0', 'padding', '0', 'overflow', 'hidden', 'embed', 'responsive', 'embed', 'responsive', 'item', 'embed', 'responsive', 'iframe', 'embed', 'responsive', 'embed', 'embed', 'responsive', 'object', 'embed', 'responsive', 'video', 'position', 'absolute', 'top', '0', 'left', '0', 'width', '100', 'height', '100', 'embed', 'responsive', '21by9', 'padding', 'bottom', '42', '85714', 'embed', 'responsive', '16by9', 'padding', 'bottom', '56', '25', 'embed', 'responsive', '4by3', 'padding', 'bottom', '75', 'embed', 'responsive', '1by1', 'padding', 'bottom', '100', 'language', 'selector', 'item', 'details', 'display', 'block', 'language', 'selector', 'item', 'details', 'button', 'margin', '6px', '0', 'language', 'selector', 'item', 'details', 'button', 'margin', 'right', '12px', 'margin', 'left', '0', 'lang', 'ar', 'language', 'selector', 'item', 'details', 'button', 'margin', 'right', '0', 'margin', 'left', '12px', 'language', 'selector', 'item', 'details', 'button', 'a', 'font', 'size', '14px', 'font', 'weight', '700', 'line', 'height', '16px', 'padding', '12px', '12px', 'language', 'selector', 'item', 'details', 'button', 'button', 'blue', 'border', 'border', 'color', '008dc9', 'background', 'color', 'fff', 'color', '008dc9', 'language', 'selector', 'item', 'details', 'button', 'button', 'blue', 'border', 'hover', 'border', 'color', '008dc9', 'background', 'color', '008dc9', 'color', 'fff', 'zeContentMode', 'sfPageContainer', 'RadDock', 'rdContent', 'zeLayoutMode', 'sfPageContainer', 'RadDock', 'rdContent', 'zeSettingsMode', 'sfPageContainer', 'RadDock', 'rdContent', 'zeThemesMode', 'sfPageContainer', 'RadDock', 'rdContent', 'sfPageContainer', 'RadDock', 'rdContent', 'a', 'sfAddContentLnk', 'sf', 'integrated', 'app', 'body', 'font', 'family', 'Arial', 'Verdana', 'sans', 'serif', 'important', 'media', 'min', 'width', '1020px', 'row', 'flex', 'ar', 'display', 'flex', 'flex', 'direction', 'row', 'align', 'content', 'stretch', 'row', 'flex', 'ar', 'sf_colsIn', 'col', 'sm', '6', 'col', 'md', '3', 'display', 'flex', 'flex', 'grow', '1', 'margin', 'bottom', '2em', 'flex', 'ar', 'img', 'mdc', 'card__media', '4', '3', 'aspect', 'ratio', '1', '1', 'Global', 'Regions', 'WHO', 'Regional', 'websites', 'Africa', 'Americas', 'South', 'East', 'Asia', 'Europe', 'Eastern', 'Mediterranean', 'Western', 'Pacific', 'When', 'autocomplete', 'results', 'are', 'available', 'use', 'up', 'and', 'down', 'arrows', 'to', 'review', 'and', 'enter', 'to', 'select', 'Select', 'language', 'Select', 'language', 'English', 'العربية', '中文', 'Français', 'Русский', 'Español', 'li', 'slicknav_addition', 'sf', 'lang', 'selector', 'width', '100', 'position', 'relative', 'li', 'slicknav_addition', 'sf', 'lang', 'selector', 'select', 'min', 'width', '100', 'search', 'form', 'label', 'visibility', 'hidden', 'language', 'selector', 'label', 'width', '0', 'important', 'height', '0', 'display', 'inline', 'block', 'overflow', 'hidden', 'Home', 'Health', 'Topics', 'All', 'topics', 'ABCDEFGHIJKLMNOPQRSTUVWXYZ', 'Resources', 'Fact', 'sheets', 'Facts', 'in', 'pictures', 'Multimedia', 'Publications', 'Questions', 'answers', 'Tools', 'and', 'toolkits', 'Popular', 'Air', 'pollution', 'Coronavirus', 'disease', 'COVID', '19', 'Hepatitis', 'Monkeypox', 'Countries', 'All', 'countries', 'ABCDEFGHIJKLMNOPQRSTUVWXYZ', 'Regions', 'Africa', 'Americas', 'South', 'East', 'Asia', 'Europe', 'Eastern', 'Mediterranean', 'Western', 'Pacific', 'WHO', 'in', 'countries', 'Statistics', 'Cooperation', 'strategies', 'Ukraine', 'emergency', 'Newsroom', 'All', 'news', 'News', 'releases', 'Statements', 'Campaigns', 'Commentaries', 'Events', 'Feature', 'stories', 'Speeches', 'Spotlights', 'Newsletters', 'Photo', 'library', 'Media', 'distribution', 'list', 'Headlines', 'div', 'class', 'vertical', 'list', 'item', 'div', 'class', 'info', 'a', 'href', 'https', 'www', 'who', 'int', 'news', 'item', 'ItemDefaultUrl', 'aria', 'label', 'Title', 'role', 'link', 'p', 'class', 'heading', 'Title', 'p', 'a', 'div', 'class', 'date', 'span', 'class', 'timestamp', 'FormatedDate', 'span', 'div', 'class', 'sf', 'tags', 'list', 'div', 'class', 'sf', 'tags', 'list', 'item', 'NewsType', 'div', 'div', 'div', 'div', 'div', 'window', 'onload', 'function', 'var', 'remoteDataSource', 'new', 'kendo', 'data', 'DataSource', 'type', 'odata', 'v4', 'transport', 'read', 'api', 'news', 'newsitems', 'sf_provider', 'OpenAccessDataProvider', 'sf_culture', 'en', 'top', '3', 'orderby', 'PublicationDateAndTime', '20desc', 'select', 'Title', 'ItemDefaultUrl', 'FormatedDate', 'NewsType', 'filter', 'publishingoffices', 'any', 's', 's', 'eq', 'df302c0e', '1f59', '4efb', 'b276', 'd154122d3760', 'listView', 'kendoListView', 'dataSource', 'remoteDataSource', 'pageable', 'true', 'template', 'kendo', 'template', 'template', 'html', 'dataBound', 'function', 'this', 'wrapper', 'removeClass', 'k', 'widget', 'this', 'wrapper', 'removeClass', 'k', 'listview', 'Emergencies', 'Focus', 'on', 'Afghanistan', 'crisis', 'COVID', '19', 'pandemic', 'Northern', 'Ethiopia', 'crisis', 'Syria', 'crisis', 'Ukraine', 'emergency', 'Monkeypox', 'outbreak', 'Greater', 'Horn', 'of', 'Africa', 'crisis', 'Latest', 'Disease', 'Outbreak', 'News', 'Travel', 'advice', 'Situation', 'reports', 'Weekly', 'Epidemiological', 'Record', 'WHO', 'in', 'emergencies', 'Surveillance', 'Research', 'Funding', 'Partners', 'Operations', 'Independent', 'Oversight', 'and', 'Advisory', 'Committee', 'Data', 'Data', 'at', 'WHO', 'Global', 'Health', 'Estimates', 'Health', 'SDGs', 'Mortality', 'Database', 'Data', 'collections', 'Dashboards', 'COVID', '19', 'Dashboard', 'Triple', 'Billion', 'Dashboard', 'Health', 'Equity', 'Monitor', 'Highlights', 'Global', 'Health', 'Observatory', 'SCORE', 'Insights', 'and', 'visualizations', 'Data', 'collection', 'tools', 'Reports', 'World', 'Health', 'Statistics', '2022', 'COVID', 'excess', 'deaths', 'DDI', 'IN', 'FOCUS', '2022', 'About', 'WHO', 'About', 'WHO', 'People', 'Teams', 'Structure', 'Partnerships', 'Collaborating', 'centres', 'Networks', 'committees', 'and', 'advisory', 'groups', 'Transformation', 'Our', 'Work', 'General', 'Programme', 'of', 'Work', 'WHO', 'Academy', 'Activities', 'Initiatives', 'Funding', 'Investment', 'case', 'WHO', 'Foundation', 'Accountability', 'Audit', 'Budget', 'Financial', 'statements', 'Programme', 'Budget', 'Portal', 'Results', 'Report', 'Governance', 'World', 'Health', 'Assembly', 'Executive', 'Board', 'Election', 'of', 'Director', 'General', 'Governing', 'Bodies', 'website', 'Home', 'Newsroom', 'Fact', 'sheets', 'Detail', 'Marburg', 'virus', 'disease', 'itemListElement', 'type', 'ListItem', 'position', '1', 'item', 'id', 'https', 'www', 'who', 'int', 'name', 'Home', 'type', 'ListItem', 'position', '2', 'item', 'id', 'https', 'www', 'who', 'int', 'news', 'room', 'name', 'Newsroom', 'type', 'ListItem', 'position', '3', 'item', 'id', 'https', 'www', 'who', 'int', 'news', 'room', 'fact', 'sheets', 'name', 'Fact', 'sheets', 'type', 'ListItem', 'position', '4', 'item', 'id', 'https', 'www', 'who', 'int', 'news', 'room', 'fact', 'sheets', 'detail', 'name', 'Detail', 'type', 'ListItem', 'position', '5', 'item', 'id', 'name', 'Marburg', 'virus', 'disease', 'itemListOrder', 'ItemListOrderAscending', 'context', 'http', 'schema', 'org', 'type', 'BreadcrumbList', 'Marburg', 'virus', 'disease', '7', 'August', '2021', 'author', 'type', 'Organization', 'name', 'World', 'Health', 'Organization', 'WHO', 'logo', 'type', 'ImageObject', 'url', 'https', 'www', 'who', 'int', 'Images', 'SchemaOrg', 'schemaOrgLogo', 'jpg', 'width', '250', 'height', '60', 'headline', 'Marburg', 'virus', 'disease', 'description', 'div', 'p', 'span', 'Marburg', 'virus', 'is', 'the', 'causative', 'agent', 'of', 'Marburg', 'virus', 'disease', 'MVD', 'a', 'disease', 'with', 'a', 'case', 'fatality', 'ratio', 'of', 'up', 'to', '88', 'nbsp', 'span', 'but', 'can', 'be', 'much', 'lower', 'with', 'good', 'patient', 'care', 'span', 'Marburg', 'virus', 'disease', 'was', 'initially', 'detected', 'in', '1967', 'after', 'simultaneous', 'outbreaks', 'in', 'Marburg', 'and', 'Frankfurt', 'in', 'Germany', 'and', 'in', 'Belgrade', 'Serbia', 'span', 'p', 'p', 'span', 'span', 'span', 'style']\n"
          ]
        }
      ]
    },
    {
      "cell_type": "code",
      "source": [
        "nltk.download(\"stopwords\")"
      ],
      "metadata": {
        "colab": {
          "base_uri": "https://localhost:8080/"
        },
        "id": "2p75bULZMQSm",
        "outputId": "6ce7f308-3364-442d-dedf-ac79582602d4"
      },
      "execution_count": 64,
      "outputs": [
        {
          "output_type": "stream",
          "name": "stderr",
          "text": [
            "[nltk_data] Downloading package stopwords to /root/nltk_data...\n",
            "[nltk_data]   Unzipping corpora/stopwords.zip.\n"
          ]
        },
        {
          "output_type": "execute_result",
          "data": {
            "text/plain": [
              "True"
            ]
          },
          "metadata": {},
          "execution_count": 64
        }
      ]
    },
    {
      "cell_type": "code",
      "source": [
        "stopwords.words('english')"
      ],
      "metadata": {
        "colab": {
          "base_uri": "https://localhost:8080/"
        },
        "id": "HE8ZDi1sMTo9",
        "outputId": "98e7e743-c511-4d3c-e018-1f166ebcccbb"
      },
      "execution_count": 68,
      "outputs": [
        {
          "output_type": "execute_result",
          "data": {
            "text/plain": [
              "['i',\n",
              " 'me',\n",
              " 'my',\n",
              " 'myself',\n",
              " 'we',\n",
              " 'our',\n",
              " 'ours',\n",
              " 'ourselves',\n",
              " 'you',\n",
              " \"you're\",\n",
              " \"you've\",\n",
              " \"you'll\",\n",
              " \"you'd\",\n",
              " 'your',\n",
              " 'yours',\n",
              " 'yourself',\n",
              " 'yourselves',\n",
              " 'he',\n",
              " 'him',\n",
              " 'his',\n",
              " 'himself',\n",
              " 'she',\n",
              " \"she's\",\n",
              " 'her',\n",
              " 'hers',\n",
              " 'herself',\n",
              " 'it',\n",
              " \"it's\",\n",
              " 'its',\n",
              " 'itself',\n",
              " 'they',\n",
              " 'them',\n",
              " 'their',\n",
              " 'theirs',\n",
              " 'themselves',\n",
              " 'what',\n",
              " 'which',\n",
              " 'who',\n",
              " 'whom',\n",
              " 'this',\n",
              " 'that',\n",
              " \"that'll\",\n",
              " 'these',\n",
              " 'those',\n",
              " 'am',\n",
              " 'is',\n",
              " 'are',\n",
              " 'was',\n",
              " 'were',\n",
              " 'be',\n",
              " 'been',\n",
              " 'being',\n",
              " 'have',\n",
              " 'has',\n",
              " 'had',\n",
              " 'having',\n",
              " 'do',\n",
              " 'does',\n",
              " 'did',\n",
              " 'doing',\n",
              " 'a',\n",
              " 'an',\n",
              " 'the',\n",
              " 'and',\n",
              " 'but',\n",
              " 'if',\n",
              " 'or',\n",
              " 'because',\n",
              " 'as',\n",
              " 'until',\n",
              " 'while',\n",
              " 'of',\n",
              " 'at',\n",
              " 'by',\n",
              " 'for',\n",
              " 'with',\n",
              " 'about',\n",
              " 'against',\n",
              " 'between',\n",
              " 'into',\n",
              " 'through',\n",
              " 'during',\n",
              " 'before',\n",
              " 'after',\n",
              " 'above',\n",
              " 'below',\n",
              " 'to',\n",
              " 'from',\n",
              " 'up',\n",
              " 'down',\n",
              " 'in',\n",
              " 'out',\n",
              " 'on',\n",
              " 'off',\n",
              " 'over',\n",
              " 'under',\n",
              " 'again',\n",
              " 'further',\n",
              " 'then',\n",
              " 'once',\n",
              " 'here',\n",
              " 'there',\n",
              " 'when',\n",
              " 'where',\n",
              " 'why',\n",
              " 'how',\n",
              " 'all',\n",
              " 'any',\n",
              " 'both',\n",
              " 'each',\n",
              " 'few',\n",
              " 'more',\n",
              " 'most',\n",
              " 'other',\n",
              " 'some',\n",
              " 'such',\n",
              " 'no',\n",
              " 'nor',\n",
              " 'not',\n",
              " 'only',\n",
              " 'own',\n",
              " 'same',\n",
              " 'so',\n",
              " 'than',\n",
              " 'too',\n",
              " 'very',\n",
              " 's',\n",
              " 't',\n",
              " 'can',\n",
              " 'will',\n",
              " 'just',\n",
              " 'don',\n",
              " \"don't\",\n",
              " 'should',\n",
              " \"should've\",\n",
              " 'now',\n",
              " 'd',\n",
              " 'll',\n",
              " 'm',\n",
              " 'o',\n",
              " 're',\n",
              " 've',\n",
              " 'y',\n",
              " 'ain',\n",
              " 'aren',\n",
              " \"aren't\",\n",
              " 'couldn',\n",
              " \"couldn't\",\n",
              " 'didn',\n",
              " \"didn't\",\n",
              " 'doesn',\n",
              " \"doesn't\",\n",
              " 'hadn',\n",
              " \"hadn't\",\n",
              " 'hasn',\n",
              " \"hasn't\",\n",
              " 'haven',\n",
              " \"haven't\",\n",
              " 'isn',\n",
              " \"isn't\",\n",
              " 'ma',\n",
              " 'mightn',\n",
              " \"mightn't\",\n",
              " 'mustn',\n",
              " \"mustn't\",\n",
              " 'needn',\n",
              " \"needn't\",\n",
              " 'shan',\n",
              " \"shan't\",\n",
              " 'shouldn',\n",
              " \"shouldn't\",\n",
              " 'wasn',\n",
              " \"wasn't\",\n",
              " 'weren',\n",
              " \"weren't\",\n",
              " 'won',\n",
              " \"won't\",\n",
              " 'wouldn',\n",
              " \"wouldn't\"]"
            ]
          },
          "metadata": {},
          "execution_count": 68
        }
      ]
    },
    {
      "cell_type": "code",
      "source": [
        ""
      ],
      "metadata": {
        "id": "vKfj27r3NTn_"
      },
      "execution_count": null,
      "outputs": []
    }
  ]
}