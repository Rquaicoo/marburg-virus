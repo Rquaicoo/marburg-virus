{
  "cells": [
    {
      "cell_type": "code",
      "execution_count": 51,
      "metadata": {
        "id": "8nsCd65tv3W0"
      },
      "outputs": [],
      "source": [
        "import requests\n",
        "import nltk\n",
        "from bs4 import BeautifulSoup\n",
        "from collections import Counter\n",
        "from nltk.tokenize import word_tokenize\n",
        "from nltk.tokenize import sent_tokenize\n",
        "from nltk.corpus import stopwords\n",
        "from nltk.stem import WordNetLemmatizer \n",
        "import spacy\n",
        "import re\n",
        "import pandas as pd\n",
        "import string\n",
        "import matplotlib.pyplot as plt"
      ]
    },
    {
      "cell_type": "code",
      "execution_count": 14,
      "metadata": {},
      "outputs": [
        {
          "name": "stderr",
          "output_type": "stream",
          "text": [
            "[nltk_data] Downloading package omw-1.4 to\n",
            "[nltk_data]     C:\\Users\\Russell\\AppData\\Roaming\\nltk_data...\n"
          ]
        },
        {
          "data": {
            "text/plain": [
              "True"
            ]
          },
          "execution_count": 14,
          "metadata": {},
          "output_type": "execute_result"
        }
      ],
      "source": [
        "nltk.download('omw-1.4')"
      ]
    },
    {
      "cell_type": "code",
      "execution_count": 10,
      "metadata": {},
      "outputs": [
        {
          "name": "stderr",
          "output_type": "stream",
          "text": [
            "[nltk_data] Downloading package punkt to\n",
            "[nltk_data]     C:\\Users\\Russell\\AppData\\Roaming\\nltk_data...\n",
            "[nltk_data]   Package punkt is already up-to-date!\n",
            "[nltk_data] Downloading package stopwords to\n",
            "[nltk_data]     C:\\Users\\Russell\\AppData\\Roaming\\nltk_data...\n",
            "[nltk_data]   Unzipping corpora\\stopwords.zip.\n",
            "[nltk_data] Downloading package wordnet to\n",
            "[nltk_data]     C:\\Users\\Russell\\AppData\\Roaming\\nltk_data...\n"
          ]
        },
        {
          "data": {
            "text/plain": [
              "True"
            ]
          },
          "execution_count": 10,
          "metadata": {},
          "output_type": "execute_result"
        }
      ],
      "source": [
        "nltk.download('punkt')\n",
        "nltk.download(\"stopwords\")\n",
        "nltk.download(\"wordnet\")"
      ]
    },
    {
      "cell_type": "code",
      "execution_count": 3,
      "metadata": {
        "colab": {
          "base_uri": "https://localhost:8080/"
        },
        "id": "zgzMQmxBv9Ir",
        "outputId": "bcdafaae-f0cf-41f9-a955-df79a0dd2be3"
      },
      "outputs": [],
      "source": [
        "r = requests.get(\"https://www.who.int/news-room/fact-sheets/detail/marburg-virus-disease\")\n",
        "r.encoding = 'utf-8'\n",
        "html = r.text\n",
        "soup = BeautifulSoup(html, 'html.parser')"
      ]
    },
    {
      "cell_type": "code",
      "execution_count": 5,
      "metadata": {
        "colab": {
          "base_uri": "https://localhost:8080/"
        },
        "id": "-1x0a4m5wCno",
        "outputId": "4f5ff874-e563-4f99-c9ea-a6b18fbdca9e"
      },
      "outputs": [],
      "source": [
        "paragraphs = ''\n",
        "for paragraph in soup.find_all('p'):\n",
        "    paragraphs += paragraph.text"
      ]
    },
    {
      "cell_type": "code",
      "execution_count": 7,
      "metadata": {
        "colab": {
          "base_uri": "https://localhost:8080/"
        },
        "id": "5eozb6Z1wMfG",
        "outputId": "e0ab0e53-b533-4bd1-b4d7-6dbd895a732f"
      },
      "outputs": [],
      "source": [
        "#remove digits in square brackets and new lines\n",
        "patterns = [r'\\[\\d+\\]', r'\\n']\n",
        "for pattern in patterns:\n",
        "    paragraphs = re.sub(pattern, '', paragraphs)"
      ]
    },
    {
      "cell_type": "code",
      "execution_count": 21,
      "metadata": {
        "colab": {
          "base_uri": "https://localhost:8080/"
        },
        "id": "tHKPbqjDy9MP",
        "outputId": "0e357fb2-5a33-499c-fa22-4859603606b4"
      },
      "outputs": [],
      "source": [
        "def clean_text(text):\n",
        "    sentences = sent_tokenize(text)\n",
        "    text = text.lower()\n",
        "    text = word_tokenize(text)\n",
        "    text = [word for word in text if word not in stopwords.words('english')]\n",
        "    text =[word for word in text if word not in string.punctuation]\n",
        "    lemmatizer = WordNetLemmatizer()\n",
        "    text = [lemmatizer.lemmatize(word) for word in text]\n",
        "    \n",
        "    return text, sentences"
      ]
    },
    {
      "cell_type": "code",
      "execution_count": 22,
      "metadata": {
        "colab": {
          "base_uri": "https://localhost:8080/"
        },
        "id": "2p75bULZMQSm",
        "outputId": "6ce7f308-3364-442d-dedf-ac79582602d4"
      },
      "outputs": [],
      "source": [
        "tokenized_text, sentences = clean_text(paragraphs)"
      ]
    },
    {
      "cell_type": "code",
      "execution_count": 53,
      "metadata": {},
      "outputs": [],
      "source": [
        "\n",
        "nlp = spacy.load('en_core_web_sm')\n",
        "doc = nlp(paragraphs)\n"
      ]
    },
    {
      "cell_type": "code",
      "execution_count": 55,
      "metadata": {},
      "outputs": [
        {
          "name": "stdout",
          "output_type": "stream",
          "text": [
            "['Marburg', 'Frankfurt', 'Germany', 'Belgrade', 'Serbia', 'Marburg', 'Frankfurt', 'Germany', 'Belgrade', 'Serbia', 'Uganda', 'Angola', 'the Democratic Republic of the', 'Congo', 'Kenya', 'South Africa', 'Zimbabwe', 'Uganda', 'Uganda', 'Marburg', 'Zaire', 'Uganda']\n",
            "[]\n"
          ]
        }
      ],
      "source": [
        "countries = []\n",
        "animals = []\n",
        "for ent in doc.ents:\n",
        "    if ent.label_ == 'GPE':\n",
        "        countries.append(ent.text)\n",
        "    if ent.label_ == 'ANIMAL':\n",
        "        animals.append(ent.text)\n",
        "print(countries)\n",
        "print(animals)"
      ]
    },
    {
      "cell_type": "code",
      "execution_count": 25,
      "metadata": {
        "colab": {
          "base_uri": "https://localhost:8080/"
        },
        "id": "HE8ZDi1sMTo9",
        "outputId": "98e7e743-c511-4d3c-e018-1f166ebcccbb"
      },
      "outputs": [],
      "source": [
        "word_counts = Counter(tokenized_text)"
      ]
    },
    {
      "cell_type": "code",
      "execution_count": 34,
      "metadata": {
        "id": "vKfj27r3NTn_"
      },
      "outputs": [
        {
          "name": "stdout",
          "output_type": "stream",
          "text": [
            "[('marburg', 26), ('virus', 26), ('disease', 15), ('outbreak', 13), ('patient', 12), ('infection', 12), ('mvd', 11), ('contact', 11), ('semen', 10), ('practice', 8)]\n"
          ]
        }
      ],
      "source": [
        "most_common_words = word_counts.most_common(10)\n",
        "print(most_common_words)"
      ]
    },
    {
      "cell_type": "code",
      "execution_count": 41,
      "metadata": {},
      "outputs": [],
      "source": [
        "def plot_10_most_common_words(most_common_words):\n",
        "    words, counts = list(zip(*most_common_words))\n",
        "    plt.barh(words, counts)\n",
        "    plt.show()"
      ]
    },
    {
      "cell_type": "code",
      "execution_count": 42,
      "metadata": {},
      "outputs": [
        {
          "data": {
            "image/png": "[encoded data removed]",
            "text/plain": [
              "<Figure size 432x288 with 1 Axes>"
            ]
          },
          "metadata": {
            "needs_background": "light"
          },
          "output_type": "display_data"
        }
      ],
      "source": [
        "plot_10_most_common_words(most_common_words)"
      ]
    },
    {
      "cell_type": "code",
      "execution_count": 50,
      "metadata": {},
      "outputs": [
        {
          "name": "stdout",
          "output_type": "stream",
          "text": [
            "['https://www.who.int/', 'https://www.who.int/', 'https://www.afro.who.int/', 'https://www.paho.org/hq/index.php?lang=en', 'https://www.who.int/southeastasia', 'https://www.who.int/europe/', 'https://www.who.int/westernpacific/', 'https://www.who.int/publications-detail-redirect/WHO-HSE-PED-CED-2014.05', 'https://www.who.int/publications-detail-redirect/WHO-HIS-SDS-2014.4-Rev.1', 'https://www.who.int/entity/csr/don/archive/disease/marburg_virus_disease/en/index.html', 'https://www.who.int/topics/haemorrhagic_fevers_viral/en/index.html', 'https://www.who.int/publications-detail-redirect/WHO-HIS-SDS-2014.4-Rev.1', 'https://www.who.int/publications/m/item/standard-precautions-in-health-care', 'https://www.who.int/news/item/09-08-2021-west-africa-s-first-ever-case-of-marburg-virus-disease-confirmed-in-guinea', 'https://www.youtube.com/user/who?sub_confirmation=1', 'https://twitter.com/intent/follow?source=followbutton&variant=1.0&screen_name=who', 'https://www.facebook.com/WHO', 'https://instagram.com/who', 'https://www.linkedin.com/company/world-health-organization', 'https://www.snapchat.com/add/who', 'https://www.tiktok.com/@who?lang=en']\n"
          ]
        }
      ],
      "source": [
        "links_in_text = []\n",
        "relevant_links = []\n",
        "for link in soup.find_all('a'):\n",
        "    links_in_text.append(link.get('href'))\n",
        "\n",
        "for link in links_in_text:\n",
        "    if re.match(r'^https://', link):\n",
        "        relevant_links.append(link)\n",
        "       \n",
        "print(relevant_links)"
      ]
    },
    {
      "cell_type": "code",
      "execution_count": 49,
      "metadata": {},
      "outputs": [
        {
          "name": "stdout",
          "output_type": "stream",
          "text": [
            "['https://www.who.int/', 'https://www.who.int/', '#', 'https://www.afro.who.int/', 'https://www.paho.org/hq/index.php?lang=en', 'https://www.who.int/southeastasia', 'https://www.who.int/europe/', 'http://www.emro.who.int/index.html', 'https://www.who.int/westernpacific/', '/', '/', '/redirect-pages/mega-menu/health-topics', '/health-topics/', '/health-topics/#A', '/health-topics/#B', '/health-topics/#C', '/health-topics/#D', '/health-topics/#E', '/health-topics/#F', '/health-topics/#G', '/health-topics/#H', '/health-topics/#I', '/health-topics/#J', '/health-topics/#K', '/health-topics/#L', '/health-topics/#M', '/health-topics/#N', '/health-topics/#O', '/health-topics/#P', '/health-topics/#Q', '/health-topics/#R', '/health-topics/#S', '/health-topics/#T', '/health-topics/#U', '/health-topics/#V', '/health-topics/#W', '/health-topics/#X', '/health-topics/#Y', '/health-topics/#Z', '/redirect-pages/mega-menu/health-topics/resources', '/redirect-pages/mega-menu/health-topics/resources/fact-sheets', '/redirect-pages/mega-menu/health-topics/resources/facts-in-pictures', '/redirect-pages/mega-menu/health-topics/resources/multimedia', '/redirect-pages/mega-menu/health-topics/resources/publications', '/redirect-pages/mega-menu/health-topics/resources/questions-answers', '/redirect-pages/mega-menu/health-topics/resources/tools-and-toolkits', '/redirect-pages/mega-menu/health-topics/popular', '/redirect-pages/mega-menu/health-topics/popular/air-pollution', '/redirect-pages/mega-menu/health-topics/popular/coronavirus-disease-(covid-19)', '/redirect-pages/mega-menu/health-topics/popular/hepatitis', '/redirect-pages/mega-menu/health-topics/popular/monkeypox', '/redirect-pages/mega-menu/countries', '/countries/', '/countries/#A', '/countries/#B', '/countries/#C', '/countries/#D', '/countries/#E', '/countries/#F', '/countries/#G', '/countries/#H', '/countries/#I', '/countries/#J', '/countries/#K ', '/countries/#L ', '/countries/#M ', '/countries/#N ', '/countries/#O ', '/countries/#P ', '/countries/#Q ', '/countries/#R ', '/countries/#S ', '/countries/#T ', '/countries/#U ', '/countries/#V ', '/countries/#W ', '/countries/#X ', '/countries/#Y ', '/countries/#Z ', '/redirect-pages/mega-menu/countries/regions', '/redirect-pages/mega-menu/countries/regions/africa', '/redirect-pages/mega-menu/countries/regions/americas', '/redirect-pages/mega-menu/countries/regions/south-east-asia', '/redirect-pages/mega-menu/countries/regions/europe', '/redirect-pages/mega-menu/countries/regions/eastern-mediterranean', '/redirect-pages/mega-menu/countries/regions/western-pacific', '/redirect-pages/mega-menu/countries/who-in-countries', '/redirect-pages/mega-menu/countries/who-in-countries/data-statistics', '/redirect-pages/mega-menu/countries/who-in-countries/cooperation-strategies', '/redirect-pages/mega-menu/countries/who-in-countries/ukraine-emergency', '/news-room', '/redirect-pages/mega-menu/news/all-news', '/redirect-pages/mega-menu/news/all-news/releases', '/redirect-pages/mega-menu/news/all-news/statements', '/redirect-pages/mega-menu/news/all-news/campaigns', '/redirect-pages/mega-menu/news/all-news/commentaries', '/redirect-pages/mega-menu/news/all-news/events', '/redirect-pages/mega-menu/news/all-news/feature-stories', '/redirect-pages/mega-menu/news/all-news/speecheshub', '/redirect-pages/mega-menu/news/all-news/spotlights', '/redirect-pages/mega-menu/news/all-news/newsletters', '/redirect-pages/mega-menu/news/all-news/photo-library', '/redirect-pages/mega-menu/news/all-news/media-distribution-list', '/news-room/headlines', '/redirect-pages/mega-menu/emergencies', '/redirect-pages/mega-menu/emergencies/emergencies', '/redirect-pages/mega-menu/emergencies/emergencies/afghanistan-crisis', '/redirect-pages/mega-menu/emergencies/emergencies/novel-coronavirus-(2019-ncov)', '/redirect-pages/mega-menu/emergencies/emergencies/crisis-in-northern-ethiopia', '/redirect-pages/mega-menu/emergencies/emergencies/syrian-arab-republic', '/redirect-pages/mega-menu/emergencies/emergencies/ukraine-emergency', '/redirect-pages/mega-menu/emergencies/emergencies/monkeypox-outbreak', '/redirect-pages/mega-menu/emergencies/emergencies/greater-horn-of-africa-crisis', '/redirect-pages/mega-menu/emergencies/news', '/redirect-pages/mega-menu/emergencies/news/disease-outbreak-news', '/redirect-pages/mega-menu/emergencies/news/travel--advice', '/redirect-pages/mega-menu/emergencies/news/situation-reports', '/redirect-pages/mega-menu/emergencies/news/weekly-epidemiological-record', '/redirect-pages/mega-menu/emergencies/who-in-emergencies', '/redirect-pages/mega-menu/emergencies/who-in-emergencies/surveillance', '/redirect-pages/mega-menu/emergencies/who-in-emergencies/research-development', '/redirect-pages/mega-menu/emergencies/who-in-emergencies/funding', '/redirect-pages/mega-menu/emergencies/who-in-emergencies/partners', '/redirect-pages/mega-menu/emergencies/who-in-emergencies/operations', '/redirect-pages/mega-menu/emergencies/who-in-emergencies/independent-oversight-and-advisory--committee', '/redirect-pages/mega-menu/data', '/redirect-pages/mega-menu/data/data-at-who', '/redirect-pages/mega-menu/data/data-at-who/global-healthestimates', '/redirect-pages/mega-menu/data/data-at-who/health-sdgs', '/redirect-pages/mega-menu/data/data-at-who/mortality-database', '/redirect-pages/mega-menu/data/data-at-who/data-collections', '/redirect-pages/mega-menu/data/dashboards', '/redirect-pages/mega-menu/data/dashboards/covid-19-dashboard', '/redirect-pages/mega-menu/data/dashboards/triple-billiondashboard', '/redirect-pages/mega-menu/data/dashboards/health-equity-monitor', '/redirect-pages/mega-menu/data/highlights', '/redirect-pages/mega-menu/data/highlights/gho', '/redirect-pages/mega-menu/data/highlights/score', '/redirect-pages/mega-menu/data/highlights/insights-and-visualizations', '/redirect-pages/mega-menu/data/highlights/data-collection-tools', '/redirect-pages/mega-menu/data/reports', '/redirect-pages/mega-menu/data/reports/world-health-statistics-2022', '/redirect-pages/mega-menu/data/reports/covid-excess-deaths', '/redirect-pages/mega-menu/data/reports/ddi-in-focus--2022', '/redirect-pages/mega-menu/about-us', '/redirect-pages/mega-menu/about-us/about', '/redirect-pages/mega-menu/about-us/about/people', '/redirect-pages/mega-menu/about-us/about/teams', '/redirect-pages/mega-menu/about-us/about/structure', '/redirect-pages/mega-menu/about-us/about/partnerships', '/redirect-pages/mega-menu/about-us/about/collaborating-centres', '/redirect-pages/mega-menu/about-us/about/expert-groups', '/redirect-pages/mega-menu/about-us/about/transformation', '/redirect-pages/mega-menu/about-us/our--work', '/redirect-pages/mega-menu/about-us/our--work/general-programme-of-work', '/redirect-pages/mega-menu/about-us/our--work/who-academy', '/redirect-pages/mega-menu/about-us/our--work/activities', '/redirect-pages/mega-menu/about-us/our--work/initiatives', '/redirect-pages/mega-menu/about-us/who-funding', '/redirect-pages/mega-menu/about-us/who-funding/investment-case', '/redirect-pages/mega-menu/about-us/who-funding/who-foundation', '/redirect-pages/mega-menu/about-us/accountability', '/redirect-pages/mega-menu/about-us/accountability/audit', '/redirect-pages/mega-menu/about-us/accountability/budget', '/redirect-pages/mega-menu/about-us/accountability/financial--statements', '/redirect-pages/mega-menu/about-us/accountability/programme-budget-portal', '/redirect-pages/mega-menu/about-us/accountability/results-report', '/redirect-pages/mega-menu/about-us/governance', '/redirect-pages/mega-menu/about-us/governance/world-health-assembly', '/redirect-pages/mega-menu/about-us/governance/executive-board', '/redirect-pages/mega-menu/about-us/governance/election-of-director-general', '/redirect-pages/mega-menu/about-us/governance/governing-bodies-website', '/', '/news-room', '/news-room/fact-sheets', '/news-room/fact-sheets/detail', 'https://www.who.int/publications-detail-redirect/WHO-HSE-PED-CED-2014.05', 'https://www.who.int/publications-detail-redirect/WHO-HIS-SDS-2014.4-Rev.1', '/health-topics/marburg-virus-disease/#tab=tab_1', 'https://www.who.int/entity/csr/don/archive/disease/marburg_virus_disease/en/index.html', '6082D949-DE75-4B47-8397-3EB912C6E391', 'https://www.who.int/topics/haemorrhagic_fevers_viral/en/index.html', '/health-topics/ebola', 'https://www.who.int/publications-detail-redirect/WHO-HIS-SDS-2014.4-Rev.1', 'https://www.who.int/publications/m/item/standard-precautions-in-health-care', 'https://www.who.int/news/item/09-08-2021-west-africa-s-first-ever-case-of-marburg-virus-disease-confirmed-in-guinea', '/redirect-pages/footer/regions', '/redirect-pages/footer/regions/africa', '/redirect-pages/footer/regions/americas', '/redirect-pages/footer/regions/eastern-mediterranen', '/redirect-pages/footer/regions/europe', '/redirect-pages/footer/regions/south-east-asia', '/redirect-pages/footer/regions/western-pacific', '/redirect-pages/footer/who-policies', '/redirect-pages/footer/who-policies/cyber-security', '/redirect-pages/footer/who-policies/ethics', '/redirect-pages/footer/who-policies/permissions-and-licensing', '/redirect-pages/footer/who-policies/preventing-sexual-exploitation', '/redirect-pages/footer/who-policies/terms-of-use', '/redirect-pages/footer/about-us', '/redirect-pages/footer/about-us/careers', '/redirect-pages/footer/about-us/library', '/redirect-pages/footer/about-us/procurement', '/redirect-pages/footer/about-us/publications', '/redirect-pages/footer/about-us/frequently-asked-questions', '/redirect-pages/footer/about-us/contact-us', '/news-room/newsletters', '/', '/about/policies/privacy', 'https://www.youtube.com/user/who?sub_confirmation=1', 'https://twitter.com/intent/follow?source=followbutton&variant=1.0&screen_name=who', 'https://www.facebook.com/WHO', 'https://instagram.com/who', 'https://www.linkedin.com/company/world-health-organization', 'https://www.snapchat.com/add/who', 'https://www.tiktok.com/@who?lang=en', '/about/policies/terms-of-use']\n"
          ]
        }
      ],
      "source": []
    },
    {
      "cell_type": "code",
      "execution_count": null,
      "metadata": {},
      "outputs": [],
      "source": []
    }
  ],
  "metadata": {
    "colab": {
      "collapsed_sections": [],
      "name": "marburg-virus.ipynb",
      "provenance": []
    },
    "gpuClass": "standard",
    "kernelspec": {
      "display_name": "Python 3.9.2 64-bit",
      "language": "python",
      "name": "python3"
    },
    "language_info": {
      "codemirror_mode": {
        "name": "ipython",
        "version": 3
      },
      "file_extension": ".py",
      "mimetype": "text/x-python",
      "name": "python",
      "nbconvert_exporter": "python",
      "pygments_lexer": "ipython3",
      "version": "3.9.2"
    },
    "vscode": {
      "interpreter": {
        "hash": "ef9247eecae52dbfe78890e3fec483ad05c8df0503b1abed8bb3f06ab3d0b3bc"
      }
    }
  },
  "nbformat": 4,
  "nbformat_minor": 0
}
